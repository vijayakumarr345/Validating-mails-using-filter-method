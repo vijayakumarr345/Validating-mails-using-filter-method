{
 "cells": [
  {
   "cell_type": "markdown",
   "id": "living-liver",
   "metadata": {},
   "source": [
    "Validating Email Address with filters\n",
    "You are given an integer followed by email addresses. Your task is to print a list containing only valid email addresses in lexicographical order.\n",
    "\n",
    "Valid email addresses must follow these rules:\n",
    "\n",
    "It must have the username@websitename.extension format type. The username can only contain letters, digits, dashes and underscores. The website name can only have letters and digits. The maximum length of the extension is 3.\n",
    "\n",
    "Each line is a non-empty string."
   ]
  },
  {
   "cell_type": "code",
   "execution_count": 5,
   "id": "stainless-medicaid",
   "metadata": {},
   "outputs": [
    {
     "name": "stdin",
     "output_type": "stream",
     "text": [
      "Enter a number of Mails: 5\n",
      "Enter 1 mail: abc@gmail.com\n",
      "Enter 2 mail: abc@yahoo.yahoo\n",
      "Enter 3 mail: @.\n",
      "Enter 4 mail: @yahoo.in\n",
      "Enter 5 mail: abc@redif.gov\n"
     ]
    },
    {
     "name": "stdout",
     "output_type": "stream",
     "text": [
      "********** The list of Valid mails in Ascending Order is *************\n",
      "['abc@gmail.com', 'abc@redif.gov']\n"
     ]
    }
   ],
   "source": [
    "def fun(s):\n",
    "    # return True if s is a valid email, else return False\n",
    "    if \"@\" not in s or '.' not in s:\n",
    "        return False\n",
    "    else:\n",
    "        if len(s) <=2:\n",
    "            return False\n",
    "        if s.count('@')>1 or s.count('.')>1:\n",
    "            return False\n",
    "        s =s.replace('@',' ')\n",
    "        s = s.replace('.',' ')\n",
    "        if s.count(' ')>2:\n",
    "            return False\n",
    "        s = s.split(' ')\n",
    "        if '' in s:\n",
    "            return False\n",
    "        if len(s) !=3:\n",
    "            return False\n",
    "        if len(s[2]) >3 or len(s[2]) ==0:\n",
    "            return False\n",
    "        if  s[0].replace('_','').replace('-','').isalnum() == False:\n",
    "            return False\n",
    "        if s[1].isalnum() == False:\n",
    "            return False\n",
    "    return True\n",
    "        \n",
    "            \n",
    "def filter_mail(emails):\n",
    "    return list(filter(fun, emails))\n",
    "\n",
    "if __name__ == '__main__':\n",
    "    n = int(input('Enter a number of Mails:'))\n",
    "    emails = []\n",
    "    for i in range(n):\n",
    "        emails.append(input('Enter {} mail:'.format(i+1)))\n",
    "\n",
    "filtered_emails = filter_mail(emails)\n",
    "filtered_emails.sort()\n",
    "print('********** The list of Valid mails in Ascending Order is *************')\n",
    "print(filtered_emails)"
   ]
  },
  {
   "cell_type": "code",
   "execution_count": null,
   "id": "correct-reference",
   "metadata": {},
   "outputs": [],
   "source": []
  }
 ],
 "metadata": {
  "kernelspec": {
   "display_name": "Python 3",
   "language": "python",
   "name": "python3"
  },
  "language_info": {
   "codemirror_mode": {
    "name": "ipython",
    "version": 3
   },
   "file_extension": ".py",
   "mimetype": "text/x-python",
   "name": "python",
   "nbconvert_exporter": "python",
   "pygments_lexer": "ipython3",
   "version": "3.9.0"
  }
 },
 "nbformat": 4,
 "nbformat_minor": 5
}
